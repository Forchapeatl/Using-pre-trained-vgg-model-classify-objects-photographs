{
  "nbformat": 4,
  "nbformat_minor": 0,
  "metadata": {
    "colab": {
      "name": "Untitled2.ipynb",
      "provenance": [],
      "authorship_tag": "ABX9TyPzdh982EabsmNdCdCtuveE",
      "include_colab_link": true
    },
    "kernelspec": {
      "name": "python3",
      "display_name": "Python 3"
    },
    "language_info": {
      "name": "python"
    }
  },
  "cells": [
    {
      "cell_type": "markdown",
      "metadata": {
        "id": "view-in-github",
        "colab_type": "text"
      },
      "source": [
        "<a href=\"https://colab.research.google.com/github/Forchapeatl/m/blob/main/Python%20image%20classification%20with%20VGG16_of_ImageNet.ipynb\" target=\"_parent\"><img src=\"https://colab.research.google.com/assets/colab-badge.svg\" alt=\"Open In Colab\"/></a>"
      ]
    },
    {
      "cell_type": "code",
      "metadata": {
        "colab": {
          "base_uri": "https://localhost:8080/"
        },
        "id": "7bxTGsyz7pMw",
        "outputId": "0eb478e5-d2a7-43b3-884a-5d484fcc2491"
      },
      "source": [
        "import argparse\n",
        "import os\n",
        "import sys\n",
        "\n",
        "import numpy as np\n",
        "from keras.applications import vgg16\n",
        "from keras.preprocessing import image\n",
        "model = vgg16.VGG16(weights=\"imagenet\")\n",
        "sys.argv[0]\n",
        "img2 = image.load_img('fly.jpeg', target_size=(224,224))\n",
        "arr2 = image.img_to_array(img2)\n",
        "arr2 = np.expand_dims(arr2,axis=0)\n",
        "arr2 = vgg16.preprocess_input(arr2)\n",
        "preds2 = model.predict(arr2)\n",
        "vgg16.decode_predictions(preds2,top=5) "
      ],
      "execution_count": 2,
      "outputs": [
        {
          "output_type": "stream",
          "name": "stdout",
          "text": [
            "Downloading data from https://storage.googleapis.com/download.tensorflow.org/data/imagenet_class_index.json\n",
            "40960/35363 [==================================] - 0s 0us/step\n",
            "49152/35363 [=========================================] - 0s 0us/step\n"
          ]
        },
        {
          "output_type": "execute_result",
          "data": {
            "text/plain": [
              "[[('n02190166', 'fly', 0.997769),\n",
              "  ('n02206856', 'bee', 0.0013271905),\n",
              "  ('n02219486', 'ant', 0.00063573715),\n",
              "  ('n02264363', 'lacewing', 9.114503e-05),\n",
              "  ('n02256656', 'cicada', 2.9562478e-05)]]"
            ]
          },
          "metadata": {},
          "execution_count": 2
        }
      ]
    }
  ]
}